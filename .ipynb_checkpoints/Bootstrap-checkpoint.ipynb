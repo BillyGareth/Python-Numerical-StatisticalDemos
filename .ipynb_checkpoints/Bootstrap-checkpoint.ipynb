{
 "cells": [
  {
   "cell_type": "markdown",
   "metadata": {},
   "source": [
    "# Demonstration of Boostrap \n",
    "## Contact: Michael Pyrcz, University of Texas at Austin, Geostatistics Course\n",
    "#\n",
    "## Steps:\n",
    "### 1. Build an initial sample set with $ndata$ samples.\n",
    "### 2. Draw from this initial sample set, with replacement, $ndata$ times to build a new realization of the sample.  \n",
    "###    Repeat this $nreal$ times to make realizations of the sample.\n",
    "### 3. Calculate the statistic of interest for each realization. This demonstration considers with mean and variance.  \n",
    "###    We could have considered any sstatistic including median, 13th percentile, skew etc. \n",
    "### 4. - 6. Quantify and visualize uncertainty with histograms and summary statistics.\n",
    "#\n",
    "### Efron, 1982, The jackknife, the bootstrap, and other resampling plans, Society of Industrial and Applied Math, \n",
    "### CBMS-NSF Monographs, 38."
   ]
  },
  {
   "cell_type": "code",
   "execution_count": 3,
   "metadata": {
    "tags": []
   },
   "outputs": [],
   "source": [
    "# Imports \n",
    "import scipy\n",
    "import numpy as np\n",
    "import pandas as pd\n",
    "import math\n",
    "import random as rand\n",
    "import matplotlib.pyplot as plt"
   ]
  },
  {
   "cell_type": "code",
   "execution_count": 4,
   "metadata": {
    "tags": []
   },
   "outputs": [
    {
     "name": "stdout",
     "output_type": "stream",
     "text": [
      "The initial sample set:\n"
     ]
    },
    {
     "data": {
      "text/plain": [
       "array([-0.18677385,  0.98977305, -0.4067072 ,  0.05361021,  0.41729354,\n",
       "       -0.21902716, -0.10534167,  0.23110019,  1.05781114,  0.17989805])"
      ]
     },
     "execution_count": 4,
     "metadata": {},
     "output_type": "execute_result"
    }
   ],
   "source": [
    "# 1. Make Dataset with User Specified Number of Data (assume Gaussian N[0,1] for this example, but could be any distribution)\n",
    "nreal = 100                                # number of bootstrap realizations\n",
    "ndata = 10                                 # number of data samples available\n",
    "data = np.zeros((ndata))                    \n",
    "for idata in range(0, ndata):\n",
    "    data[idata] = np.random.normal()\n",
    "print('The initial sample set:')\n",
    "data"
   ]
  },
  {
   "cell_type": "code",
   "execution_count": 5,
   "metadata": {
    "scrolled": true,
    "tags": []
   },
   "outputs": [
    {
     "name": "stdout",
     "output_type": "stream",
     "text": [
      "The realizations of the sample set:\n"
     ]
    },
    {
     "data": {
      "text/plain": [
       "array([[ 0.17989805, -0.10534167, -0.4067072 ,  0.05361021,  0.05361021,\n",
       "         0.41729354,  1.05781114, -0.18677385,  0.98977305, -0.18677385,\n",
       "         0.17989805,  1.05781114, -0.21902716, -0.4067072 ,  0.41729354,\n",
       "         0.41729354,  0.98977305,  0.23110019, -0.18677385, -0.10534167,\n",
       "         0.98977305, -0.10534167, -0.4067072 ,  1.05781114,  0.17989805,\n",
       "         0.17989805, -0.18677385,  0.23110019, -0.18677385,  0.17989805,\n",
       "        -0.4067072 , -0.21902716,  0.98977305,  0.05361021,  0.17989805,\n",
       "        -0.4067072 ,  0.17989805,  0.98977305, -0.10534167,  0.17989805,\n",
       "        -0.4067072 , -0.21902716,  1.05781114,  0.17989805, -0.4067072 ,\n",
       "        -0.18677385,  0.41729354,  0.98977305, -0.10534167, -0.18677385,\n",
       "         0.17989805,  0.23110019, -0.4067072 , -0.10534167,  0.41729354,\n",
       "        -0.18677385, -0.4067072 , -0.18677385,  0.41729354, -0.18677385,\n",
       "         0.23110019, -0.4067072 ,  0.23110019,  1.05781114, -0.10534167,\n",
       "         0.41729354,  1.05781114,  0.05361021,  0.41729354, -0.21902716,\n",
       "         0.23110019,  0.98977305,  0.41729354,  0.98977305,  0.05361021,\n",
       "        -0.10534167,  0.23110019, -0.18677385, -0.18677385,  0.98977305,\n",
       "        -0.10534167, -0.10534167,  0.23110019,  1.05781114,  1.05781114,\n",
       "         0.98977305,  0.98977305, -0.4067072 ,  0.05361021, -0.10534167,\n",
       "        -0.21902716,  1.05781114,  0.05361021,  0.41729354,  0.17989805,\n",
       "        -0.18677385,  0.17989805,  0.98977305, -0.21902716, -0.21902716],\n",
       "       [-0.18677385, -0.18677385,  0.98977305,  0.98977305, -0.4067072 ,\n",
       "        -0.18677385,  0.17989805,  0.98977305,  0.05361021,  0.98977305,\n",
       "        -0.21902716, -0.21902716,  1.05781114,  0.23110019, -0.18677385,\n",
       "        -0.10534167, -0.4067072 , -0.21902716,  0.98977305,  0.23110019,\n",
       "        -0.18677385, -0.21902716,  0.98977305, -0.18677385,  0.17989805,\n",
       "        -0.10534167,  1.05781114,  0.23110019,  0.17989805,  0.17989805,\n",
       "         0.23110019, -0.10534167, -0.10534167,  0.05361021,  0.05361021,\n",
       "         0.17989805,  0.05361021,  0.23110019, -0.4067072 , -0.10534167,\n",
       "         0.41729354,  0.17989805,  0.23110019,  0.98977305,  0.23110019,\n",
       "        -0.4067072 , -0.21902716,  0.41729354, -0.21902716,  1.05781114,\n",
       "        -0.10534167, -0.18677385, -0.21902716,  0.98977305,  0.05361021,\n",
       "         0.17989805,  1.05781114,  0.17989805,  0.05361021, -0.21902716,\n",
       "        -0.21902716,  0.98977305,  0.17989805, -0.21902716,  0.23110019,\n",
       "         0.17989805,  0.23110019,  0.41729354, -0.4067072 , -0.18677385,\n",
       "         0.05361021,  0.23110019, -0.18677385, -0.4067072 ,  0.17989805,\n",
       "         0.98977305,  0.05361021,  0.41729354, -0.4067072 ,  0.98977305,\n",
       "        -0.4067072 ,  0.17989805,  0.98977305,  0.23110019,  0.23110019,\n",
       "         0.17989805,  0.05361021, -0.4067072 ,  0.17989805,  0.17989805,\n",
       "        -0.10534167,  0.41729354,  0.41729354, -0.10534167,  0.23110019,\n",
       "        -0.10534167,  0.05361021,  1.05781114, -0.21902716,  0.05361021],\n",
       "       [-0.18677385,  0.98977305,  1.05781114, -0.4067072 ,  0.17989805,\n",
       "         0.41729354, -0.21902716,  1.05781114,  0.98977305, -0.18677385,\n",
       "         0.41729354, -0.21902716,  0.98977305, -0.10534167,  0.05361021,\n",
       "         0.98977305, -0.18677385,  0.41729354, -0.4067072 , -0.10534167,\n",
       "        -0.21902716,  0.41729354,  1.05781114,  0.23110019,  0.98977305,\n",
       "         0.17989805,  0.41729354, -0.4067072 , -0.4067072 , -0.10534167,\n",
       "         0.05361021,  0.05361021, -0.18677385, -0.18677385,  0.23110019,\n",
       "         0.23110019,  0.05361021,  0.17989805,  0.23110019,  0.41729354,\n",
       "         0.05361021,  0.05361021,  0.98977305,  0.23110019,  0.98977305,\n",
       "         1.05781114, -0.4067072 ,  0.17989805,  1.05781114,  0.23110019,\n",
       "         0.05361021, -0.10534167, -0.10534167,  0.17989805,  0.41729354,\n",
       "         0.23110019,  0.23110019, -0.21902716, -0.4067072 ,  0.98977305,\n",
       "        -0.21902716, -0.10534167, -0.4067072 , -0.10534167,  0.23110019,\n",
       "        -0.21902716,  0.17989805,  0.98977305,  0.17989805,  0.98977305,\n",
       "         0.41729354,  1.05781114, -0.21902716,  0.17989805, -0.4067072 ,\n",
       "         0.23110019, -0.4067072 , -0.21902716,  1.05781114, -0.4067072 ,\n",
       "         0.98977305,  0.17989805,  0.98977305, -0.10534167, -0.21902716,\n",
       "         0.23110019, -0.10534167,  0.41729354, -0.18677385, -0.4067072 ,\n",
       "        -0.18677385,  0.05361021, -0.21902716, -0.21902716, -0.18677385,\n",
       "         0.41729354, -0.18677385, -0.18677385,  0.17989805, -0.4067072 ],\n",
       "       [-0.10534167, -0.10534167, -0.18677385,  1.05781114, -0.21902716,\n",
       "         1.05781114, -0.10534167,  0.98977305,  0.23110019,  0.98977305,\n",
       "         0.17989805,  0.23110019, -0.10534167,  0.23110019, -0.18677385,\n",
       "        -0.4067072 ,  0.41729354,  0.98977305, -0.4067072 ,  0.98977305,\n",
       "         1.05781114,  1.05781114,  0.05361021, -0.21902716,  1.05781114,\n",
       "        -0.21902716,  0.05361021, -0.18677385,  0.23110019,  0.23110019,\n",
       "        -0.4067072 ,  0.98977305,  1.05781114, -0.10534167, -0.4067072 ,\n",
       "         1.05781114, -0.21902716,  0.05361021,  0.17989805, -0.21902716,\n",
       "         0.23110019, -0.21902716,  0.23110019,  0.41729354, -0.21902716,\n",
       "        -0.10534167,  0.98977305, -0.18677385,  0.17989805, -0.18677385,\n",
       "        -0.18677385,  0.41729354,  0.98977305, -0.21902716,  0.17989805,\n",
       "        -0.21902716,  0.17989805,  1.05781114, -0.4067072 ,  0.23110019,\n",
       "         0.05361021,  1.05781114, -0.18677385,  0.17989805, -0.21902716,\n",
       "        -0.21902716, -0.21902716,  0.23110019,  0.41729354, -0.21902716,\n",
       "        -0.4067072 ,  0.41729354,  0.17989805,  0.41729354,  1.05781114,\n",
       "         0.23110019,  0.05361021, -0.10534167,  1.05781114, -0.4067072 ,\n",
       "         0.23110019,  0.05361021, -0.21902716, -0.18677385,  0.05361021,\n",
       "        -0.18677385,  0.17989805,  0.98977305,  0.41729354,  0.05361021,\n",
       "         0.23110019,  0.41729354, -0.10534167,  0.17989805, -0.18677385,\n",
       "         0.17989805, -0.21902716,  1.05781114, -0.21902716,  0.98977305],\n",
       "       [ 0.05361021,  0.23110019, -0.4067072 ,  0.05361021, -0.10534167,\n",
       "        -0.10534167,  0.41729354,  1.05781114, -0.21902716,  0.41729354,\n",
       "         0.05361021,  1.05781114,  0.05361021,  0.17989805,  0.41729354,\n",
       "         0.98977305,  0.05361021, -0.10534167, -0.4067072 , -0.10534167,\n",
       "        -0.10534167,  0.05361021,  0.98977305,  0.17989805,  0.23110019,\n",
       "         0.17989805, -0.4067072 ,  0.05361021,  0.98977305,  0.98977305,\n",
       "         1.05781114, -0.10534167, -0.4067072 , -0.21902716, -0.4067072 ,\n",
       "        -0.21902716, -0.21902716,  0.98977305, -0.21902716,  0.05361021,\n",
       "         0.98977305,  0.41729354, -0.4067072 ,  0.23110019, -0.21902716,\n",
       "         0.41729354,  0.17989805, -0.18677385,  0.17989805,  0.23110019,\n",
       "         0.17989805, -0.21902716,  0.05361021,  1.05781114,  0.17989805,\n",
       "         0.23110019, -0.21902716, -0.4067072 ,  0.41729354,  0.05361021,\n",
       "         0.23110019,  0.41729354,  0.05361021,  1.05781114, -0.4067072 ,\n",
       "         1.05781114,  0.05361021,  0.17989805, -0.18677385,  0.98977305,\n",
       "         0.98977305,  0.98977305,  0.05361021,  0.98977305,  1.05781114,\n",
       "        -0.21902716, -0.10534167,  0.05361021,  0.05361021,  0.41729354,\n",
       "         0.98977305,  1.05781114, -0.4067072 , -0.21902716,  1.05781114,\n",
       "        -0.21902716,  0.41729354,  0.23110019,  0.41729354, -0.21902716,\n",
       "         1.05781114,  0.98977305, -0.4067072 ,  0.17989805, -0.4067072 ,\n",
       "        -0.4067072 ,  1.05781114,  0.17989805,  1.05781114,  0.23110019],\n",
       "       [ 1.05781114,  0.17989805,  0.41729354, -0.18677385,  0.41729354,\n",
       "        -0.10534167, -0.21902716,  1.05781114,  0.17989805,  0.41729354,\n",
       "        -0.10534167, -0.10534167,  0.41729354, -0.21902716,  0.41729354,\n",
       "        -0.18677385, -0.18677385, -0.21902716,  0.05361021,  1.05781114,\n",
       "         0.98977305,  0.23110019,  0.05361021, -0.18677385,  0.05361021,\n",
       "        -0.18677385,  1.05781114,  0.17989805,  0.17989805, -0.10534167,\n",
       "         1.05781114,  0.05361021,  0.05361021, -0.4067072 ,  1.05781114,\n",
       "        -0.4067072 ,  0.05361021,  0.41729354,  0.05361021,  0.98977305,\n",
       "        -0.4067072 ,  0.17989805,  0.23110019,  0.41729354,  0.17989805,\n",
       "        -0.4067072 ,  0.05361021, -0.10534167, -0.10534167,  0.98977305,\n",
       "         0.23110019,  0.41729354,  0.05361021, -0.18677385, -0.21902716,\n",
       "         0.23110019,  0.17989805, -0.21902716,  0.05361021, -0.21902716,\n",
       "        -0.4067072 , -0.18677385,  0.17989805,  0.17989805,  0.05361021,\n",
       "         0.41729354,  1.05781114, -0.10534167,  0.23110019, -0.10534167,\n",
       "         0.41729354,  0.98977305,  1.05781114,  0.41729354,  0.05361021,\n",
       "         1.05781114,  0.98977305,  0.17989805,  1.05781114,  1.05781114,\n",
       "        -0.18677385, -0.4067072 ,  0.05361021,  0.17989805, -0.4067072 ,\n",
       "        -0.18677385,  0.98977305,  0.05361021,  0.23110019, -0.10534167,\n",
       "         0.41729354,  1.05781114,  0.05361021, -0.21902716, -0.4067072 ,\n",
       "         0.41729354,  0.05361021,  0.98977305,  0.98977305,  0.23110019],\n",
       "       [ 0.05361021,  0.17989805,  0.23110019,  0.41729354,  0.17989805,\n",
       "        -0.18677385, -0.18677385,  0.05361021,  0.23110019, -0.21902716,\n",
       "         0.05361021, -0.21902716, -0.18677385, -0.4067072 ,  0.41729354,\n",
       "         0.41729354,  1.05781114,  1.05781114,  0.05361021,  0.23110019,\n",
       "         0.41729354,  1.05781114, -0.21902716,  1.05781114,  0.17989805,\n",
       "         0.41729354,  0.41729354, -0.10534167,  0.17989805,  1.05781114,\n",
       "        -0.21902716, -0.21902716, -0.21902716,  1.05781114,  0.41729354,\n",
       "         0.23110019, -0.4067072 , -0.4067072 , -0.4067072 , -0.10534167,\n",
       "        -0.18677385, -0.21902716,  0.41729354,  0.98977305, -0.10534167,\n",
       "         0.23110019,  0.17989805,  0.05361021,  0.17989805, -0.4067072 ,\n",
       "         0.41729354,  0.05361021, -0.18677385,  0.05361021,  0.41729354,\n",
       "         0.98977305,  0.41729354, -0.10534167,  0.05361021,  1.05781114,\n",
       "         0.23110019,  1.05781114,  0.17989805,  0.05361021,  0.41729354,\n",
       "         0.17989805,  0.05361021,  0.41729354,  0.05361021, -0.4067072 ,\n",
       "         0.17989805,  0.05361021, -0.10534167, -0.10534167,  0.41729354,\n",
       "         0.23110019, -0.10534167,  0.17989805,  0.23110019,  0.05361021,\n",
       "        -0.4067072 , -0.4067072 , -0.10534167,  0.98977305, -0.18677385,\n",
       "        -0.18677385,  1.05781114,  0.23110019,  0.17989805, -0.18677385,\n",
       "         0.17989805,  0.17989805,  1.05781114, -0.4067072 , -0.21902716,\n",
       "         0.98977305, -0.21902716, -0.4067072 , -0.18677385,  0.17989805],\n",
       "       [ 0.41729354,  0.23110019, -0.21902716, -0.21902716, -0.21902716,\n",
       "        -0.10534167,  0.98977305,  1.05781114, -0.18677385, -0.10534167,\n",
       "         1.05781114, -0.4067072 , -0.18677385,  0.98977305,  0.17989805,\n",
       "        -0.21902716,  0.41729354,  0.98977305, -0.18677385,  0.98977305,\n",
       "         1.05781114,  1.05781114, -0.18677385, -0.18677385, -0.4067072 ,\n",
       "        -0.21902716,  0.41729354, -0.18677385,  0.17989805,  0.17989805,\n",
       "        -0.21902716,  0.23110019,  0.98977305,  0.23110019, -0.10534167,\n",
       "         0.41729354, -0.4067072 ,  1.05781114, -0.18677385,  1.05781114,\n",
       "        -0.10534167,  0.41729354,  0.17989805,  0.05361021,  0.23110019,\n",
       "         0.17989805, -0.21902716, -0.4067072 ,  0.23110019, -0.10534167,\n",
       "        -0.21902716,  0.05361021,  0.05361021,  0.23110019,  0.23110019,\n",
       "         0.98977305,  0.05361021,  0.98977305,  1.05781114, -0.10534167,\n",
       "         0.05361021, -0.21902716,  0.17989805, -0.10534167,  0.41729354,\n",
       "         0.23110019,  1.05781114,  1.05781114,  0.17989805,  0.23110019,\n",
       "        -0.21902716, -0.4067072 ,  1.05781114,  1.05781114, -0.4067072 ,\n",
       "         0.23110019, -0.4067072 ,  0.05361021,  0.98977305,  0.41729354,\n",
       "         0.17989805,  0.17989805, -0.4067072 ,  0.05361021,  0.17989805,\n",
       "        -0.4067072 , -0.21902716,  1.05781114, -0.10534167, -0.10534167,\n",
       "         0.23110019,  0.17989805,  0.41729354,  0.17989805,  0.05361021,\n",
       "        -0.21902716,  0.05361021,  1.05781114,  0.05361021, -0.21902716],\n",
       "       [ 0.17989805, -0.10534167,  0.98977305, -0.10534167, -0.18677385,\n",
       "        -0.21902716,  0.23110019,  0.05361021,  0.05361021,  0.17989805,\n",
       "         0.05361021, -0.18677385,  0.05361021,  0.05361021, -0.4067072 ,\n",
       "         0.23110019, -0.18677385,  0.41729354,  0.17989805,  0.05361021,\n",
       "         0.98977305, -0.21902716,  0.23110019, -0.10534167,  0.41729354,\n",
       "        -0.10534167, -0.21902716, -0.4067072 , -0.18677385,  0.17989805,\n",
       "         0.05361021, -0.10534167,  0.23110019,  0.98977305,  0.23110019,\n",
       "         1.05781114, -0.18677385,  0.17989805,  0.05361021,  0.41729354,\n",
       "         0.41729354, -0.4067072 ,  0.17989805, -0.4067072 ,  0.05361021,\n",
       "         0.05361021, -0.21902716,  0.23110019, -0.21902716,  0.98977305,\n",
       "         0.23110019,  0.05361021,  0.98977305,  0.17989805,  1.05781114,\n",
       "         0.23110019,  0.17989805,  0.05361021,  1.05781114,  0.98977305,\n",
       "         0.98977305,  0.17989805,  0.98977305,  0.17989805,  0.41729354,\n",
       "        -0.18677385,  0.23110019, -0.21902716, -0.21902716,  0.23110019,\n",
       "         0.17989805, -0.21902716, -0.18677385,  1.05781114,  1.05781114,\n",
       "         0.17989805, -0.4067072 ,  0.98977305,  1.05781114,  0.17989805,\n",
       "         1.05781114,  0.17989805,  0.17989805, -0.21902716,  1.05781114,\n",
       "         0.41729354,  0.17989805,  1.05781114,  0.17989805, -0.4067072 ,\n",
       "         0.17989805, -0.18677385,  0.98977305, -0.21902716,  0.41729354,\n",
       "        -0.18677385,  0.23110019, -0.21902716,  0.05361021,  0.23110019],\n",
       "       [ 0.98977305,  0.41729354, -0.4067072 ,  0.98977305, -0.18677385,\n",
       "        -0.10534167, -0.4067072 , -0.18677385, -0.18677385,  0.41729354,\n",
       "        -0.10534167,  0.23110019,  0.05361021,  0.41729354,  0.05361021,\n",
       "        -0.18677385,  0.98977305,  0.17989805, -0.21902716,  0.23110019,\n",
       "        -0.4067072 ,  0.17989805,  0.41729354,  1.05781114, -0.18677385,\n",
       "         0.98977305,  0.23110019,  0.98977305,  0.23110019, -0.21902716,\n",
       "         0.41729354, -0.18677385, -0.4067072 ,  1.05781114, -0.10534167,\n",
       "         0.05361021, -0.10534167, -0.18677385, -0.21902716,  0.05361021,\n",
       "         0.23110019,  1.05781114,  0.17989805,  0.41729354,  0.05361021,\n",
       "        -0.18677385,  0.05361021,  1.05781114,  0.17989805, -0.21902716,\n",
       "        -0.10534167,  0.41729354,  0.41729354,  0.41729354, -0.18677385,\n",
       "         0.17989805, -0.18677385,  0.05361021, -0.4067072 ,  1.05781114,\n",
       "        -0.10534167,  0.05361021,  1.05781114,  0.98977305,  0.98977305,\n",
       "         0.41729354, -0.21902716, -0.21902716,  0.98977305,  1.05781114,\n",
       "         0.23110019,  1.05781114,  0.41729354,  0.98977305,  0.05361021,\n",
       "         0.98977305,  0.98977305,  0.98977305,  0.05361021,  0.23110019,\n",
       "        -0.18677385, -0.21902716,  0.98977305,  1.05781114,  0.41729354,\n",
       "        -0.10534167,  0.98977305,  0.17989805,  1.05781114,  0.41729354,\n",
       "         1.05781114, -0.4067072 ,  0.17989805, -0.18677385,  0.23110019,\n",
       "        -0.21902716, -0.4067072 ,  0.23110019,  0.41729354,  0.98977305]])"
      ]
     },
     "execution_count": 5,
     "metadata": {},
     "output_type": "execute_result"
    }
   ],
   "source": [
    "# 2. Perform ndata random draws with replacement, nreal times.  Here we aquire the nreal realizations of the distribution of \n",
    "# ndata, samples.\n",
    "draw = np.zeros((ndata,nreal)) \n",
    "for ireal in range(0, nreal):\n",
    "    for isample in range(0, ndata):\n",
    "        draw[isample,ireal] = rand.choice(data)\n",
    "print('The realizations of the sample set:')\n",
    "draw"
   ]
  },
  {
   "cell_type": "code",
   "execution_count": 6,
   "metadata": {
    "tags": []
   },
   "outputs": [
    {
     "name": "stdout",
     "output_type": "stream",
     "text": [
      "The statistics of interest for each realization of the sample set:\n",
      "[ 0.24530049  0.17262642  0.20598284  0.26440213 -0.0492951   0.08784567\n",
      "  0.17389989  0.59444634  0.21362901  0.27134083  0.15660209  0.12219185\n",
      "  0.19277918  0.0964992   0.11760378  0.19406096  0.29585258  0.37395466\n",
      " -0.05358049  0.3468243   0.45843851  0.35119394  0.29804632  0.26997413\n",
      "  0.26958013  0.11112492  0.28397051  0.03931779  0.13913107  0.25685661\n",
      "  0.16197677  0.03872405  0.19975106  0.25258661  0.11467156  0.21961829\n",
      " -0.12028555  0.35056762 -0.10253656  0.27395793  0.12346408  0.12420159\n",
      "  0.32911653  0.35204282  0.07889887  0.06474094  0.08102944  0.20438896\n",
      "  0.13597659  0.23949339  0.06764159  0.11326688  0.16398204  0.25982416\n",
      "  0.25483973  0.2857942   0.1487001   0.11978256  0.18909184  0.36497089\n",
      "  0.08401909  0.28383473  0.24584058  0.32689892  0.20263882  0.22757599\n",
      "  0.3484698   0.28033837  0.16563584  0.23626806  0.20742325  0.5161211\n",
      "  0.24858011  0.55873777  0.31180413  0.38172872  0.08870618  0.23527135\n",
      "  0.49658572  0.35231384  0.21560517  0.06932304  0.22961444  0.28398339\n",
      "  0.32428272  0.05266673  0.45334613  0.34049831  0.24246873 -0.08844386\n",
      "  0.28437696  0.37599077  0.24382137 -0.03989165 -0.02929871  0.06806073\n",
      "  0.05981047  0.47514696  0.19081409  0.20615934] [0.18223662 0.10955021 0.34606073 0.28184279 0.05596569 0.15521929\n",
      " 0.23634458 0.29770116 0.17655957 0.19066467 0.11913716 0.25507457\n",
      " 0.20385717 0.15926068 0.08315202 0.22786293 0.28241843 0.2220926\n",
      " 0.16030275 0.20717814 0.35087211 0.24933426 0.26715071 0.28775267\n",
      " 0.18996811 0.1280411  0.22584875 0.15179311 0.12575236 0.16918891\n",
      " 0.26356207 0.11879314 0.3160318  0.28981    0.16566698 0.24505871\n",
      " 0.03690479 0.23447263 0.04591299 0.18046315 0.16619762 0.1689902\n",
      " 0.16122947 0.15498243 0.13347798 0.17515164 0.1467931  0.21899217\n",
      " 0.12350682 0.2905759  0.04078464 0.05500916 0.21325213 0.18126253\n",
      " 0.11957986 0.15037313 0.14736205 0.23005858 0.27334938 0.30634012\n",
      " 0.1347482  0.28806942 0.1880269  0.23190811 0.14255966 0.1372422\n",
      " 0.23834531 0.18566742 0.14228422 0.29341923 0.12854734 0.29568699\n",
      " 0.2132352  0.26121406 0.2930616  0.19261599 0.24581949 0.17443382\n",
      " 0.32489852 0.26047493 0.31108678 0.15931261 0.28902601 0.26416856\n",
      " 0.28163471 0.15409513 0.23034937 0.27051959 0.1078674  0.05781176\n",
      " 0.18688556 0.24200526 0.21149862 0.06106212 0.0756165  0.16561815\n",
      " 0.14738253 0.3392587  0.21255634 0.19911004]\n"
     ]
    }
   ],
   "source": [
    "# 3. Calculate summary statistic - average and variance\n",
    "mean = np.zeros((nreal))\n",
    "var = np.zeros((nreal))\n",
    "for ireal in range(0, nreal):\n",
    "    s = 0.0\n",
    "    ss = 0.0\n",
    "    count = 0.0\n",
    "    for isample in range(0, ndata):\n",
    "        s = s + draw[isample,ireal]\n",
    "        ss = ss + draw[isample,ireal] * draw[isample,ireal]\n",
    "        count = count + 1.0\n",
    "    mean[ireal] = s / count \n",
    "    var[ireal] = ss / count - mean[ireal] * mean[ireal]\n",
    "print('The statistics of interest for each realization of the sample set:')\n",
    "print(mean,var)"
   ]
  },
  {
   "cell_type": "code",
   "execution_count": 8,
   "metadata": {
    "tags": []
   },
   "outputs": [
    {
     "data": {
      "image/png": "[encoded data removed]",
      "text/plain": [
       "<Figure size 640x480 with 1 Axes>"
      ]
     },
     "metadata": {},
     "output_type": "display_data"
    },
    {
     "data": {
      "image/png": "[encoded data removed]",
      "text/plain": [
       "<Figure size 640x480 with 1 Axes>"
      ]
     },
     "metadata": {},
     "output_type": "display_data"
    }
   ],
   "source": [
    "# 4. Visualize the summary statistic, calculate the variance or any other measure of spread to represent uncertainty in\n",
    "#    the summary statistic.\n",
    "plt.hist(mean, bins=20, density=True)\n",
    "plt.title(\"Bootstrap Resamples of Mean\")\n",
    "plt.xlabel(\"Value\")\n",
    "plt.ylabel(\"Frequency\")\n",
    "plt.show()\n",
    "\n",
    "plt.hist(var)\n",
    "plt.title(\"Bootstrap Resamples of Variance\")\n",
    "plt.xlabel(\"Value\")\n",
    "plt.ylabel(\"Frequency\")\n",
    "plt.show()"
   ]
  },
  {
   "cell_type": "code",
   "execution_count": 9,
   "metadata": {
    "tags": []
   },
   "outputs": [
    {
     "data": {
      "text/html": [
       "<div>\n",
       "<style scoped>\n",
       "    .dataframe tbody tr th:only-of-type {\n",
       "        vertical-align: middle;\n",
       "    }\n",
       "\n",
       "    .dataframe tbody tr th {\n",
       "        vertical-align: top;\n",
       "    }\n",
       "\n",
       "    .dataframe thead th {\n",
       "        text-align: right;\n",
       "    }\n",
       "</style>\n",
       "<table border=\"1\" class=\"dataframe\">\n",
       "  <thead>\n",
       "    <tr style=\"text-align: right;\">\n",
       "      <th></th>\n",
       "      <th>mean</th>\n",
       "    </tr>\n",
       "  </thead>\n",
       "  <tbody>\n",
       "    <tr>\n",
       "      <th>count</th>\n",
       "      <td>100.000000</td>\n",
       "    </tr>\n",
       "    <tr>\n",
       "      <th>mean</th>\n",
       "      <td>0.213480</td>\n",
       "    </tr>\n",
       "    <tr>\n",
       "      <th>std</th>\n",
       "      <td>0.139978</td>\n",
       "    </tr>\n",
       "    <tr>\n",
       "      <th>min</th>\n",
       "      <td>-0.120286</td>\n",
       "    </tr>\n",
       "    <tr>\n",
       "      <th>25%</th>\n",
       "      <td>0.119238</td>\n",
       "    </tr>\n",
       "    <tr>\n",
       "      <th>50%</th>\n",
       "      <td>0.217612</td>\n",
       "    </tr>\n",
       "    <tr>\n",
       "      <th>75%</th>\n",
       "      <td>0.284731</td>\n",
       "    </tr>\n",
       "    <tr>\n",
       "      <th>max</th>\n",
       "      <td>0.594446</td>\n",
       "    </tr>\n",
       "  </tbody>\n",
       "</table>\n",
       "</div>"
      ],
      "text/plain": [
       "             mean\n",
       "count  100.000000\n",
       "mean     0.213480\n",
       "std      0.139978\n",
       "min     -0.120286\n",
       "25%      0.119238\n",
       "50%      0.217612\n",
       "75%      0.284731\n",
       "max      0.594446"
      ]
     },
     "execution_count": 9,
     "metadata": {},
     "output_type": "execute_result"
    }
   ],
   "source": [
    "# 5. Summary statistics to describe uncertainty in the mean from bootstrap\n",
    "columns = ['mean']\n",
    "df_mean = pd.DataFrame(mean,columns=columns)\n",
    "df_mean.describe()"
   ]
  },
  {
   "cell_type": "code",
   "execution_count": 10,
   "metadata": {
    "tags": []
   },
   "outputs": [
    {
     "data": {
      "text/html": [
       "<div>\n",
       "<style scoped>\n",
       "    .dataframe tbody tr th:only-of-type {\n",
       "        vertical-align: middle;\n",
       "    }\n",
       "\n",
       "    .dataframe tbody tr th {\n",
       "        vertical-align: top;\n",
       "    }\n",
       "\n",
       "    .dataframe thead th {\n",
       "        text-align: right;\n",
       "    }\n",
       "</style>\n",
       "<table border=\"1\" class=\"dataframe\">\n",
       "  <thead>\n",
       "    <tr style=\"text-align: right;\">\n",
       "      <th></th>\n",
       "      <th>var</th>\n",
       "    </tr>\n",
       "  </thead>\n",
       "  <tbody>\n",
       "    <tr>\n",
       "      <th>count</th>\n",
       "      <td>100.000000</td>\n",
       "    </tr>\n",
       "    <tr>\n",
       "      <th>mean</th>\n",
       "      <td>0.197913</td>\n",
       "    </tr>\n",
       "    <tr>\n",
       "      <th>std</th>\n",
       "      <td>0.075296</td>\n",
       "    </tr>\n",
       "    <tr>\n",
       "      <th>min</th>\n",
       "      <td>0.036905</td>\n",
       "    </tr>\n",
       "    <tr>\n",
       "      <th>25%</th>\n",
       "      <td>0.147377</td>\n",
       "    </tr>\n",
       "    <tr>\n",
       "      <th>50%</th>\n",
       "      <td>0.190316</td>\n",
       "    </tr>\n",
       "    <tr>\n",
       "      <th>75%</th>\n",
       "      <td>0.260660</td>\n",
       "    </tr>\n",
       "    <tr>\n",
       "      <th>max</th>\n",
       "      <td>0.350872</td>\n",
       "    </tr>\n",
       "  </tbody>\n",
       "</table>\n",
       "</div>"
      ],
      "text/plain": [
       "              var\n",
       "count  100.000000\n",
       "mean     0.197913\n",
       "std      0.075296\n",
       "min      0.036905\n",
       "25%      0.147377\n",
       "50%      0.190316\n",
       "75%      0.260660\n",
       "max      0.350872"
      ]
     },
     "execution_count": 10,
     "metadata": {},
     "output_type": "execute_result"
    }
   ],
   "source": [
    "# 6. Summary statistics to describe uncertainty in the variance from bootstrap\n",
    "columns = ['var']\n",
    "df_var = pd.DataFrame(var,columns=columns)\n",
    "df_var.describe()"
   ]
  },
  {
   "cell_type": "markdown",
   "metadata": {
    "jupyter": {
     "outputs_hidden": true
    }
   },
   "source": [
    "### What did we learn?\n",
    "#### 1. Uncertainty decreases rapidly as the number of samples increases.\n",
    "#### 2. Bootstrap result for uncertainty in the mean is the same as standard error.\n",
    "#### 3. Bootstrap provides uncertainty in any statistic.\n",
    "#### 4. Bootstrap does not account for spatial context, location of data, local nonstationarity, spatial correlation etc."
   ]
  }
 ],
 "metadata": {
  "kernelspec": {
   "display_name": "Python 3 (ipykernel)",
   "language": "python",
   "name": "python3"
  },
  "language_info": {
   "codemirror_mode": {
    "name": "ipython",
    "version": 3
   },
   "file_extension": ".py",
   "mimetype": "text/x-python",
   "name": "python",
   "nbconvert_exporter": "python",
   "pygments_lexer": "ipython3",
   "version": "3.11.5"
  }
 },
 "nbformat": 4,
 "nbformat_minor": 4
}
